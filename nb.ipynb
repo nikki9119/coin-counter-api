{
 "metadata": {
  "language_info": {
   "codemirror_mode": {
    "name": "ipython",
    "version": 3
   },
   "file_extension": ".py",
   "mimetype": "text/x-python",
   "name": "python",
   "nbconvert_exporter": "python",
   "pygments_lexer": "ipython3",
   "version": 3
  },
  "orig_nbformat": 2
 },
 "nbformat": 4,
 "nbformat_minor": 2,
 "cells": [
  {
   "cell_type": "code",
   "execution_count": null,
   "metadata": {},
   "outputs": [],
   "source": [
    "import os, sys, random\n",
    "from glob import glob\n",
    "import matplotlib.pyplot as plt\n",
    "%matplotlib inline\n",
    "!pip install -qr 'requirements.txt'  # install dependencies\n",
    "\n",
    "## Add the path where you have stored the neccessary supporting files to run detect.py ##\n",
    "## Replace this with your path.##\n",
    "sys.path.insert(0, '') \n",
    "print(sys.path)\n",
    "cwd = os.getcwd()\n",
    "print(cwd)\n",
    "\n",
    "## Single Image prediction\n",
    "## Beware the contents in the output folder will be deleted for every prediction\n",
    "output = !python 'detect.py' \n",
    "          --source '/INPUTS/10rupee.jpg' \n",
    "          --weights 'best.pt' \n",
    "           --output '/OUTPUTS/' --device 'cpu'\n",
    "print(output)\n",
    "img = plt.imread('/OUTPUTS/10rupee.jpg')\n",
    "plt.imshow(img)\n",
    "\n",
    "## Folder Prediction\n",
    "# output = !python 'detect.py' \n",
    "#           --source '/content/inputs/' \n",
    "#           --weights '/content/drive/My Drive/Machine Learning Projects/YOLO/SOURCE/best_BCCM.pt' \n",
    "#           --output '/content/OUTPUTS/' --device 'cpu'\n",
    "          \n",
    "print(output)"
   ]
  }
 ]
}